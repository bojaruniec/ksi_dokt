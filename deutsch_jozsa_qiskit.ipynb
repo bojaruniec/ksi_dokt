{
  "nbformat": 4,
  "nbformat_minor": 0,
  "metadata": {
    "colab": {
      "provenance": [],
      "authorship_tag": "ABX9TyPVsGhtDE0Ys/91P9vmoCRd"
    },
    "kernelspec": {
      "name": "python3",
      "display_name": "Python 3"
    },
    "language_info": {
      "name": "python"
    }
  },
  "cells": [
    {
      "cell_type": "code",
      "execution_count": null,
      "metadata": {
        "id": "luHKud7FTsly"
      },
      "outputs": [],
      "source": [
        "!pip install -q pylatexenc\n",
        "!pip install -q qiskit\n",
        "!pip install -q qiskit_aer"
      ]
    },
    {
      "cell_type": "markdown",
      "source": [
        "<img src=\"/content/Deutsch-Jozsa.png\" />"
      ],
      "metadata": {
        "id": "S2FyKObpWIxi"
      }
    },
    {
      "cell_type": "code",
      "source": [
        "from qiskit import QuantumCircuit\n",
        "import numpy as np\n",
        "\n",
        "def dj_function(num_qubits):\n",
        "    \"\"\"\n",
        "    Create a random Deutsch-Jozsa function.\n",
        "    \"\"\"\n",
        "\n",
        "    qc = QuantumCircuit(num_qubits + 1)\n",
        "    if np.random.randint(0, 2):\n",
        "        # Flip output qubit with 50% chance\n",
        "        qc.x(num_qubits)\n",
        "    if np.random.randint(0, 2):\n",
        "        # return constant circuit with 50% chance\n",
        "        return qc\n",
        "\n",
        "    # next, choose half the possible input states\n",
        "    on_states = np.random.choice(\n",
        "        range(2**num_qubits),  # numbers to sample from\n",
        "        2**num_qubits // 2,  # number of samples\n",
        "        replace=False,  # makes sure states are only sampled once\n",
        "    )\n",
        "\n",
        "    def add_cx(qc, bit_string):\n",
        "        for qubit, bit in enumerate(reversed(bit_string)):\n",
        "            if bit == \"1\":\n",
        "                qc.x(qubit)\n",
        "        return qc\n",
        "\n",
        "    for state in on_states:\n",
        "        qc.barrier()  # Barriers are added to help visualize how the functions are created. They can safely be removed.\n",
        "        qc = add_cx(qc, f\"{state:0b}\")\n",
        "        qc.mcx(list(range(num_qubits)), num_qubits)\n",
        "        qc = add_cx(qc, f\"{state:0b}\")\n",
        "\n",
        "    qc.barrier()\n",
        "\n",
        "    return qc"
      ],
      "metadata": {
        "id": "PvFC7YbtT1kW"
      },
      "execution_count": null,
      "outputs": []
    },
    {
      "cell_type": "code",
      "source": [
        "display(dj_function(1).draw())"
      ],
      "metadata": {
        "colab": {
          "base_uri": "https://localhost:8080/",
          "height": 94
        },
        "id": "9srmhRezT9OJ",
        "outputId": "33b155cc-fc2b-4b88-c5b8-a30a2cdae796"
      },
      "execution_count": null,
      "outputs": [
        {
          "output_type": "display_data",
          "data": {
            "text/plain": [
              "     \n",
              "q_0: \n",
              "     \n",
              "q_1: \n",
              "     "
            ],
            "text/html": [
              "<pre style=\"word-wrap: normal;white-space: pre;background: #fff0;line-height: 1.1;font-family: &quot;Courier New&quot;,Courier,monospace\">     \n",
              "q_0: \n",
              "     \n",
              "q_1: \n",
              "     </pre>"
            ]
          },
          "metadata": {}
        }
      ]
    },
    {
      "cell_type": "code",
      "source": [
        "display(dj_function(3).draw())"
      ],
      "metadata": {
        "colab": {
          "base_uri": "https://localhost:8080/",
          "height": 156
        },
        "id": "0hZF7aqXUIK9",
        "outputId": "384eb6e4-40b2-4e0c-bcc8-9f8d3fac2414"
      },
      "execution_count": null,
      "outputs": [
        {
          "output_type": "display_data",
          "data": {
            "text/plain": [
              "     \n",
              "q_0: \n",
              "     \n",
              "q_1: \n",
              "     \n",
              "q_2: \n",
              "     \n",
              "q_3: \n",
              "     "
            ],
            "text/html": [
              "<pre style=\"word-wrap: normal;white-space: pre;background: #fff0;line-height: 1.1;font-family: &quot;Courier New&quot;,Courier,monospace\">     \n",
              "q_0: \n",
              "     \n",
              "q_1: \n",
              "     \n",
              "q_2: \n",
              "     \n",
              "q_3: \n",
              "     </pre>"
            ]
          },
          "metadata": {}
        }
      ]
    },
    {
      "cell_type": "code",
      "source": [
        "def compile_circuit(function: QuantumCircuit):\n",
        "    \"\"\"\n",
        "    Compiles a circuit for use in the Deutsch-Jozsa algorithm.\n",
        "    \"\"\"\n",
        "    n = function.num_qubits - 1\n",
        "    qc = QuantumCircuit(n + 1, n)\n",
        "    qc.x(n)\n",
        "    qc.h(range(n + 1))\n",
        "    qc.compose(function, inplace=True)\n",
        "    qc.h(range(n))\n",
        "    qc.measure(range(n), range(n))\n",
        "    return qc"
      ],
      "metadata": {
        "id": "yr3U0u70ULLA"
      },
      "execution_count": null,
      "outputs": []
    },
    {
      "cell_type": "code",
      "source": [
        "from qiskit_aer import AerSimulator\n",
        "\n",
        "def dj_algorithm(function: QuantumCircuit):\n",
        "    \"\"\"\n",
        "    Determine if a Deutsch-Jozsa function is constant or balanced.\n",
        "    \"\"\"\n",
        "    qc = compile_circuit(function)\n",
        "\n",
        "    print('Cały obwód')\n",
        "    display(qc.draw())\n",
        "\n",
        "    result = AerSimulator().run(qc, shots=1, memory=True).result()\n",
        "    measurements = result.get_memory()\n",
        "    if \"1\" in measurements[0]:\n",
        "        return \"balanced\"\n",
        "    return \"constant\""
      ],
      "metadata": {
        "id": "7uozh70BVKPI"
      },
      "execution_count": null,
      "outputs": []
    },
    {
      "cell_type": "code",
      "source": [
        "f = dj_function(3)\n",
        "display(f.draw())\n",
        "display(dj_algorithm(f))"
      ],
      "metadata": {
        "colab": {
          "base_uri": "https://localhost:8080/",
          "height": 669
        },
        "id": "ANAVmTPaUw0h",
        "outputId": "42e64f52-e00d-412c-b4d9-96a9773386bc"
      },
      "execution_count": null,
      "outputs": [
        {
          "output_type": "display_data",
          "data": {
            "text/plain": [
              "           ░ ┌───┐     ┌───┐ ░                 ░ ┌───┐     ┌───┐ ░           »\n",
              "q_0: ──────░─┤ X ├──■──┤ X ├─░────────■────────░─┤ X ├──■──┤ X ├─░────────■──»\n",
              "           ░ ├───┤  │  ├───┤ ░ ┌───┐  │  ┌───┐ ░ ├───┤  │  ├───┤ ░        │  »\n",
              "q_1: ──────░─┤ X ├──■──┤ X ├─░─┤ X ├──■──┤ X ├─░─┤ X ├──■──┤ X ├─░────────■──»\n",
              "           ░ ├───┤  │  ├───┤ ░ ├───┤  │  ├───┤ ░ └───┘  │  └───┘ ░ ┌───┐  │  »\n",
              "q_2: ──────░─┤ X ├──■──┤ X ├─░─┤ X ├──■──┤ X ├─░────────■────────░─┤ X ├──■──»\n",
              "     ┌───┐ ░ └───┘┌─┴─┐└───┘ ░ └───┘┌─┴─┐└───┘ ░      ┌─┴─┐      ░ └───┘┌─┴─┐»\n",
              "q_3: ┤ X ├─░──────┤ X ├──────░──────┤ X ├──────░──────┤ X ├──────░──────┤ X ├»\n",
              "     └───┘ ░      └───┘      ░      └───┘      ░      └───┘      ░      └───┘»\n",
              "«           ░ \n",
              "«q_0: ──────░─\n",
              "«           ░ \n",
              "«q_1: ──────░─\n",
              "«     ┌───┐ ░ \n",
              "«q_2: ┤ X ├─░─\n",
              "«     └───┘ ░ \n",
              "«q_3: ──────░─\n",
              "«           ░ "
            ],
            "text/html": [
              "<pre style=\"word-wrap: normal;white-space: pre;background: #fff0;line-height: 1.1;font-family: &quot;Courier New&quot;,Courier,monospace\">           ░ ┌───┐     ┌───┐ ░                 ░ ┌───┐     ┌───┐ ░           »\n",
              "q_0: ──────░─┤ X ├──■──┤ X ├─░────────■────────░─┤ X ├──■──┤ X ├─░────────■──»\n",
              "           ░ ├───┤  │  ├───┤ ░ ┌───┐  │  ┌───┐ ░ ├───┤  │  ├───┤ ░        │  »\n",
              "q_1: ──────░─┤ X ├──■──┤ X ├─░─┤ X ├──■──┤ X ├─░─┤ X ├──■──┤ X ├─░────────■──»\n",
              "           ░ ├───┤  │  ├───┤ ░ ├───┤  │  ├───┤ ░ └───┘  │  └───┘ ░ ┌───┐  │  »\n",
              "q_2: ──────░─┤ X ├──■──┤ X ├─░─┤ X ├──■──┤ X ├─░────────■────────░─┤ X ├──■──»\n",
              "     ┌───┐ ░ └───┘┌─┴─┐└───┘ ░ └───┘┌─┴─┐└───┘ ░      ┌─┴─┐      ░ └───┘┌─┴─┐»\n",
              "q_3: ┤ X ├─░──────┤ X ├──────░──────┤ X ├──────░──────┤ X ├──────░──────┤ X ├»\n",
              "     └───┘ ░      └───┘      ░      └───┘      ░      └───┘      ░      └───┘»\n",
              "«           ░ \n",
              "«q_0: ──────░─\n",
              "«           ░ \n",
              "«q_1: ──────░─\n",
              "«     ┌───┐ ░ \n",
              "«q_2: ┤ X ├─░─\n",
              "«     └───┘ ░ \n",
              "«q_3: ──────░─\n",
              "«           ░ </pre>"
            ]
          },
          "metadata": {}
        },
        {
          "output_type": "stream",
          "name": "stdout",
          "text": [
            "Cały obwód\n"
          ]
        },
        {
          "output_type": "display_data",
          "data": {
            "text/plain": [
              "     ┌───┐           ░ ┌───┐     ┌───┐ ░                 ░ ┌───┐     ┌───┐ ░ »\n",
              "q_0: ┤ H ├───────────░─┤ X ├──■──┤ X ├─░────────■────────░─┤ X ├──■──┤ X ├─░─»\n",
              "     ├───┤           ░ ├───┤  │  ├───┤ ░ ┌───┐  │  ┌───┐ ░ ├───┤  │  ├───┤ ░ »\n",
              "q_1: ┤ H ├───────────░─┤ X ├──■──┤ X ├─░─┤ X ├──■──┤ X ├─░─┤ X ├──■──┤ X ├─░─»\n",
              "     ├───┤           ░ ├───┤  │  ├───┤ ░ ├───┤  │  ├───┤ ░ └───┘  │  └───┘ ░ »\n",
              "q_2: ┤ H ├───────────░─┤ X ├──■──┤ X ├─░─┤ X ├──■──┤ X ├─░────────■────────░─»\n",
              "     ├───┤┌───┐┌───┐ ░ └───┘┌─┴─┐└───┘ ░ └───┘┌─┴─┐└───┘ ░      ┌─┴─┐      ░ »\n",
              "q_3: ┤ X ├┤ H ├┤ X ├─░──────┤ X ├──────░──────┤ X ├──────░──────┤ X ├──────░─»\n",
              "     └───┘└───┘└───┘ ░      └───┘      ░      └───┘      ░      └───┘      ░ »\n",
              "c: 3/════════════════════════════════════════════════════════════════════════»\n",
              "                                                                             »\n",
              "«                     ░ ┌───┐┌─┐      \n",
              "«q_0: ───────■────────░─┤ H ├┤M├──────\n",
              "«            │        ░ ├───┤└╥┘┌─┐   \n",
              "«q_1: ───────■────────░─┤ H ├─╫─┤M├───\n",
              "«     ┌───┐  │  ┌───┐ ░ ├───┤ ║ └╥┘┌─┐\n",
              "«q_2: ┤ X ├──■──┤ X ├─░─┤ H ├─╫──╫─┤M├\n",
              "«     └───┘┌─┴─┐└───┘ ░ └───┘ ║  ║ └╥┘\n",
              "«q_3: ─────┤ X ├──────░───────╫──╫──╫─\n",
              "«          └───┘      ░       ║  ║  ║ \n",
              "«c: 3/════════════════════════╩══╩══╩═\n",
              "«                             0  1  2 "
            ],
            "text/html": [
              "<pre style=\"word-wrap: normal;white-space: pre;background: #fff0;line-height: 1.1;font-family: &quot;Courier New&quot;,Courier,monospace\">     ┌───┐           ░ ┌───┐     ┌───┐ ░                 ░ ┌───┐     ┌───┐ ░ »\n",
              "q_0: ┤ H ├───────────░─┤ X ├──■──┤ X ├─░────────■────────░─┤ X ├──■──┤ X ├─░─»\n",
              "     ├───┤           ░ ├───┤  │  ├───┤ ░ ┌───┐  │  ┌───┐ ░ ├───┤  │  ├───┤ ░ »\n",
              "q_1: ┤ H ├───────────░─┤ X ├──■──┤ X ├─░─┤ X ├──■──┤ X ├─░─┤ X ├──■──┤ X ├─░─»\n",
              "     ├───┤           ░ ├───┤  │  ├───┤ ░ ├───┤  │  ├───┤ ░ └───┘  │  └───┘ ░ »\n",
              "q_2: ┤ H ├───────────░─┤ X ├──■──┤ X ├─░─┤ X ├──■──┤ X ├─░────────■────────░─»\n",
              "     ├───┤┌───┐┌───┐ ░ └───┘┌─┴─┐└───┘ ░ └───┘┌─┴─┐└───┘ ░      ┌─┴─┐      ░ »\n",
              "q_3: ┤ X ├┤ H ├┤ X ├─░──────┤ X ├──────░──────┤ X ├──────░──────┤ X ├──────░─»\n",
              "     └───┘└───┘└───┘ ░      └───┘      ░      └───┘      ░      └───┘      ░ »\n",
              "c: 3/════════════════════════════════════════════════════════════════════════»\n",
              "                                                                             »\n",
              "«                     ░ ┌───┐┌─┐      \n",
              "«q_0: ───────■────────░─┤ H ├┤M├──────\n",
              "«            │        ░ ├───┤└╥┘┌─┐   \n",
              "«q_1: ───────■────────░─┤ H ├─╫─┤M├───\n",
              "«     ┌───┐  │  ┌───┐ ░ ├───┤ ║ └╥┘┌─┐\n",
              "«q_2: ┤ X ├──■──┤ X ├─░─┤ H ├─╫──╫─┤M├\n",
              "«     └───┘┌─┴─┐└───┘ ░ └───┘ ║  ║ └╥┘\n",
              "«q_3: ─────┤ X ├──────░───────╫──╫──╫─\n",
              "«          └───┘      ░       ║  ║  ║ \n",
              "«c: 3/════════════════════════╩══╩══╩═\n",
              "«                             0  1  2 </pre>"
            ]
          },
          "metadata": {}
        },
        {
          "output_type": "display_data",
          "data": {
            "text/plain": [
              "'balanced'"
            ],
            "application/vnd.google.colaboratory.intrinsic+json": {
              "type": "string"
            }
          },
          "metadata": {}
        }
      ]
    },
    {
      "cell_type": "code",
      "source": [],
      "metadata": {
        "id": "FdrZSFBZU2ii"
      },
      "execution_count": null,
      "outputs": []
    }
  ]
}