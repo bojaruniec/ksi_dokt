{
 "cells": [
  {
   "cell_type": "markdown",
   "metadata": {},
   "source": [
    "# Algorytm Deutscha-Jozsy\n",
    "\n",
    "Przedstawienie rachunku macierzowego dla przykładu algorytmu Detuscha-Jozsy - systemu z 2 qubitami. Pokazanie różnic pomiędzy zastosowaniem bramek do qubitów nie będących w systemie oraz do qubitów będących w systemie."
   ]
  },
  {
   "cell_type": "code",
   "execution_count": 45,
   "metadata": {},
   "outputs": [],
   "source": [
    "from sympy.physics.quantum.qubit import Qubit,  matrix_to_qubit, qubit_to_matrix\n",
    "from sympy.physics.quantum import TensorProduct\n",
    "from sympy.physics.quantum.gate import XGate\n",
    "from sympy.physics.quantum.qubit import measure_all\n",
    "from sympy.printing.latex import latex\n",
    "from IPython.display import Math\n",
    "from sympy import Matrix, sqrt"
   ]
  },
  {
   "cell_type": "markdown",
   "metadata": {},
   "source": [
    "Zdefiniowanie macierzowe kubitów oraz bramek"
   ]
  },
  {
   "cell_type": "code",
   "execution_count": 137,
   "metadata": {},
   "outputs": [
    {
     "data": {
      "text/latex": [
       "$\\displaystyle q_{base} = \\left[\\begin{matrix}1\\\\0\\end{matrix}\\right]$"
      ],
      "text/plain": [
       "<IPython.core.display.Math object>"
      ]
     },
     "metadata": {},
     "output_type": "display_data"
    },
    {
     "data": {
      "text/latex": [
       "$\\displaystyle X = \\left[\\begin{matrix}0 & 1\\\\1 & 0\\end{matrix}\\right]$"
      ],
      "text/plain": [
       "<IPython.core.display.Math object>"
      ]
     },
     "metadata": {},
     "output_type": "display_data"
    },
    {
     "data": {
      "text/latex": [
       "$\\displaystyle H = \\left[\\begin{matrix}\\frac{\\sqrt{2}}{2} & \\frac{\\sqrt{2}}{2}\\\\\\frac{\\sqrt{2}}{2} & - \\frac{\\sqrt{2}}{2}\\end{matrix}\\right]$"
      ],
      "text/plain": [
       "<IPython.core.display.Math object>"
      ]
     },
     "metadata": {},
     "output_type": "display_data"
    },
    {
     "data": {
      "text/latex": [
       "$\\displaystyle I = \\left[\\begin{matrix}1 & 0\\\\0 & 1\\end{matrix}\\right]$"
      ],
      "text/plain": [
       "<IPython.core.display.Math object>"
      ]
     },
     "metadata": {},
     "output_type": "display_data"
    },
    {
     "data": {
      "text/latex": [
       "$\\displaystyle CNOT = \\left[\\begin{matrix}1 & 0 & 0 & 0\\\\0 & 0 & 0 & 1\\\\0 & 0 & 1 & 0\\\\0 & 1 & 0 & 0\\end{matrix}\\right]$"
      ],
      "text/plain": [
       "<IPython.core.display.Math object>"
      ]
     },
     "metadata": {},
     "output_type": "display_data"
    }
   ],
   "source": [
    "q_base = Matrix([[1],[0]])\n",
    "X_gate = Matrix([[0,1],[1,0]])\n",
    "H_gate = 1/sqrt(2) * Matrix([[1,1],[1,-1]]) \n",
    "I_gate = Matrix([[1,0],[0,1]])\n",
    "CNOT_gate = Matrix([[1,0,0,0],[0,0,0,1],[0,0,1,0],[0,1,0,0]])\n",
    "display(Math('q_{base} = ' + f'{latex(q_base)}'))\n",
    "display(Math(f'X = {latex(X_gate)}'))\n",
    "display(Math(f'H = {latex(H_gate)}'))\n",
    "display(Math(f'I = {latex(I_gate)}'))\n",
    "display(Math(f'CNOT = {latex(CNOT_gate)}'))"
   ]
  },
  {
   "cell_type": "markdown",
   "metadata": {},
   "source": [
    "Przypisanie kubitom wartości bazowych"
   ]
  },
  {
   "cell_type": "code",
   "execution_count": 41,
   "metadata": {},
   "outputs": [
    {
     "data": {
      "text/latex": [
       "$\\displaystyle q_0= \\left[\\begin{matrix}1\\\\0\\end{matrix}\\right]$"
      ],
      "text/plain": [
       "<IPython.core.display.Math object>"
      ]
     },
     "metadata": {},
     "output_type": "display_data"
    },
    {
     "data": {
      "text/latex": [
       "$\\displaystyle q_1= \\left[\\begin{matrix}1\\\\0\\end{matrix}\\right]$"
      ],
      "text/plain": [
       "<IPython.core.display.Math object>"
      ]
     },
     "metadata": {},
     "output_type": "display_data"
    }
   ],
   "source": [
    "q0 = q_base\n",
    "q1 = q_base\n",
    "display(Math(f'q_0= {latex(q0)}'))\n",
    "display(Math(f'q_1= {latex(q1)}'))"
   ]
  },
  {
   "cell_type": "markdown",
   "metadata": {},
   "source": [
    "## Wersja 1 (błędna) Bramki na kubitach, bez uwzględnienia ich jako jednego systemu"
   ]
  },
  {
   "cell_type": "markdown",
   "metadata": {},
   "source": [
    "Zastosowanie bramki X do kubitu drugiego (o indeksie 1)"
   ]
  },
  {
   "cell_type": "code",
   "execution_count": 42,
   "metadata": {},
   "outputs": [
    {
     "data": {
      "text/latex": [
       "$\\displaystyle q_1 = X \\cdot q_1 = \\left[\\begin{matrix}0 & 1\\\\1 & 0\\end{matrix}\\right]\\left[\\begin{matrix}1\\\\0\\end{matrix}\\right]$"
      ],
      "text/plain": [
       "<IPython.core.display.Math object>"
      ]
     },
     "metadata": {},
     "output_type": "display_data"
    },
    {
     "name": "stdout",
     "output_type": "stream",
     "text": [
      "Po zmianie\n"
     ]
    },
    {
     "data": {
      "text/latex": [
       "$\\displaystyle q_0= \\left[\\begin{matrix}1\\\\0\\end{matrix}\\right]$"
      ],
      "text/plain": [
       "<IPython.core.display.Math object>"
      ]
     },
     "metadata": {},
     "output_type": "display_data"
    },
    {
     "data": {
      "text/latex": [
       "$\\displaystyle q_1= \\left[\\begin{matrix}0\\\\1\\end{matrix}\\right]$"
      ],
      "text/plain": [
       "<IPython.core.display.Math object>"
      ]
     },
     "metadata": {},
     "output_type": "display_data"
    }
   ],
   "source": [
    "display(Math(f'q_1 = X \\cdot q_1 = {latex(X_gate)}{latex(q1)}'))\n",
    "q1 = X_gate * q1 \n",
    "print('Po zmianie')\n",
    "display(Math(f'q_0= {latex(q0)}'))\n",
    "display(Math(f'q_1= {latex(q1)}'))\n"
   ]
  },
  {
   "cell_type": "markdown",
   "metadata": {},
   "source": [
    "Do obu kubitów zastosowano bramkę H"
   ]
  },
  {
   "cell_type": "code",
   "execution_count": 43,
   "metadata": {},
   "outputs": [
    {
     "data": {
      "text/latex": [
       "$\\displaystyle q_0 = H \\cdot q_0 = \\left[\\begin{matrix}\\frac{\\sqrt{2}}{2} & \\frac{\\sqrt{2}}{2}\\\\\\frac{\\sqrt{2}}{2} & - \\frac{\\sqrt{2}}{2}\\end{matrix}\\right]\\left[\\begin{matrix}1\\\\0\\end{matrix}\\right]$"
      ],
      "text/plain": [
       "<IPython.core.display.Math object>"
      ]
     },
     "metadata": {},
     "output_type": "display_data"
    },
    {
     "data": {
      "text/latex": [
       "$\\displaystyle q_1 = H \\cdot q_1 = \\left[\\begin{matrix}\\frac{\\sqrt{2}}{2} & \\frac{\\sqrt{2}}{2}\\\\\\frac{\\sqrt{2}}{2} & - \\frac{\\sqrt{2}}{2}\\end{matrix}\\right]\\left[\\begin{matrix}0\\\\1\\end{matrix}\\right]$"
      ],
      "text/plain": [
       "<IPython.core.display.Math object>"
      ]
     },
     "metadata": {},
     "output_type": "display_data"
    },
    {
     "name": "stdout",
     "output_type": "stream",
     "text": [
      "Po bramce\n"
     ]
    },
    {
     "data": {
      "text/latex": [
       "$\\displaystyle q_0= \\left[\\begin{matrix}\\frac{\\sqrt{2}}{2}\\\\\\frac{\\sqrt{2}}{2}\\end{matrix}\\right]$"
      ],
      "text/plain": [
       "<IPython.core.display.Math object>"
      ]
     },
     "metadata": {},
     "output_type": "display_data"
    },
    {
     "data": {
      "text/latex": [
       "$\\displaystyle q_1= \\left[\\begin{matrix}\\frac{\\sqrt{2}}{2}\\\\- \\frac{\\sqrt{2}}{2}\\end{matrix}\\right]$"
      ],
      "text/plain": [
       "<IPython.core.display.Math object>"
      ]
     },
     "metadata": {},
     "output_type": "display_data"
    }
   ],
   "source": [
    "display(Math(f'q_0 = H \\cdot q_0 = {latex(H_gate)}{latex(q0)}'))\n",
    "display(Math(f'q_1 = H \\cdot q_1 = {latex(H_gate)}{latex(q1)}'))\n",
    "q0 = H_gate * q0 \n",
    "q1 = H_gate * q1 \n",
    "print('Po bramce')\n",
    "display(Math(f'q_0= {latex(q0)}'))\n",
    "display(Math(f'q_1= {latex(q1)}'))"
   ]
  },
  {
   "cell_type": "markdown",
   "metadata": {},
   "source": [
    "Zastosowano bramkę H dla pierwszego kubitu"
   ]
  },
  {
   "cell_type": "code",
   "execution_count": 44,
   "metadata": {},
   "outputs": [
    {
     "data": {
      "text/latex": [
       "$\\displaystyle q_1 = H \\cdot q_1 = \\left[\\begin{matrix}\\frac{\\sqrt{2}}{2} & \\frac{\\sqrt{2}}{2}\\\\\\frac{\\sqrt{2}}{2} & - \\frac{\\sqrt{2}}{2}\\end{matrix}\\right]\\left[\\begin{matrix}\\frac{\\sqrt{2}}{2}\\\\- \\frac{\\sqrt{2}}{2}\\end{matrix}\\right]$"
      ],
      "text/plain": [
       "<IPython.core.display.Math object>"
      ]
     },
     "metadata": {},
     "output_type": "display_data"
    },
    {
     "name": "stdout",
     "output_type": "stream",
     "text": [
      "Po bramce\n"
     ]
    },
    {
     "data": {
      "text/latex": [
       "$\\displaystyle q_0= \\left[\\begin{matrix}\\frac{\\sqrt{2}}{2}\\\\\\frac{\\sqrt{2}}{2}\\end{matrix}\\right]$"
      ],
      "text/plain": [
       "<IPython.core.display.Math object>"
      ]
     },
     "metadata": {},
     "output_type": "display_data"
    },
    {
     "data": {
      "text/latex": [
       "$\\displaystyle q_1= \\left[\\begin{matrix}0\\\\1\\end{matrix}\\right]$"
      ],
      "text/plain": [
       "<IPython.core.display.Math object>"
      ]
     },
     "metadata": {},
     "output_type": "display_data"
    }
   ],
   "source": [
    "display(Math(f'q_1 = H \\cdot q_1 = {latex(H_gate)}{latex(q1)}'))\n",
    "q1 = H_gate * q1 \n",
    "print('Po bramce')\n",
    "display(Math(f'q_0= {latex(q0)}'))\n",
    "display(Math(f'q_1= {latex(q1)}'))"
   ]
  },
  {
   "cell_type": "markdown",
   "metadata": {},
   "source": [
    "## Wersja 2 - system skłądający się z kubitów\n",
    "### fc1"
   ]
  },
  {
   "cell_type": "code",
   "execution_count": 81,
   "metadata": {},
   "outputs": [
    {
     "data": {
      "text/latex": [
       "$\\displaystyle q_0= \\left[\\begin{matrix}1\\\\0\\end{matrix}\\right]$"
      ],
      "text/plain": [
       "<IPython.core.display.Math object>"
      ]
     },
     "metadata": {},
     "output_type": "display_data"
    },
    {
     "data": {
      "text/latex": [
       "$\\displaystyle q_1= \\left[\\begin{matrix}1\\\\0\\end{matrix}\\right]$"
      ],
      "text/plain": [
       "<IPython.core.display.Math object>"
      ]
     },
     "metadata": {},
     "output_type": "display_data"
    }
   ],
   "source": [
    "q0 = q_base\n",
    "q1 = q_base\n",
    "display(Math(f'q_0= {latex(q0)}'))\n",
    "display(Math(f'q_1= {latex(q1)}'))"
   ]
  },
  {
   "cell_type": "code",
   "execution_count": 82,
   "metadata": {},
   "outputs": [],
   "source": [
    "q1q0 = TensorProduct(q1,q0) "
   ]
  },
  {
   "cell_type": "markdown",
   "metadata": {},
   "source": [
    "Stan całego systemu"
   ]
  },
  {
   "cell_type": "code",
   "execution_count": 83,
   "metadata": {},
   "outputs": [
    {
     "data": {
      "text/latex": [
       "$\\displaystyle \\left[\\begin{matrix}1\\\\0\\\\0\\\\0\\end{matrix}\\right]$"
      ],
      "text/plain": [
       "Matrix([\n",
       "[1],\n",
       "[0],\n",
       "[0],\n",
       "[0]])"
      ]
     },
     "execution_count": 83,
     "metadata": {},
     "output_type": "execute_result"
    }
   ],
   "source": [
    "q1q0"
   ]
  },
  {
   "cell_type": "markdown",
   "metadata": {},
   "source": [
    "Każda ze współrzędnych wektora odpowiada pierwiastkowi prawdopodobieństwa stanów kubitów. Można je uzyskać przez kombinacje"
   ]
  },
  {
   "cell_type": "code",
   "execution_count": 84,
   "metadata": {},
   "outputs": [
    {
     "name": "stdout",
     "output_type": "stream",
     "text": [
      "[(0, 0), (0, 1), (1, 0), (1, 1)]\n"
     ]
    }
   ],
   "source": [
    "from itertools import product\n",
    "lst_combinations = list(product([0,1],[0,1]))\n",
    "print(lst_combinations)"
   ]
  },
  {
   "cell_type": "markdown",
   "metadata": {},
   "source": [
    "Zastosowanie bramki X na drugim qubicie będzie jednocześnie oznaczało zastosowanie macierzy I na pierwszym kubicie"
   ]
  },
  {
   "cell_type": "code",
   "execution_count": 85,
   "metadata": {},
   "outputs": [
    {
     "data": {
      "text/latex": [
       "$\\displaystyle M_1 = I \\otimes X = \\left[\\begin{matrix}1 & 0\\\\0 & 1\\end{matrix}\\right]\\left[\\begin{matrix}0 & 1\\\\1 & 0\\end{matrix}\\right]$"
      ],
      "text/plain": [
       "<IPython.core.display.Math object>"
      ]
     },
     "metadata": {},
     "output_type": "display_data"
    },
    {
     "data": {
      "text/latex": [
       "$\\displaystyle \\left[\\begin{matrix}0 & 1 & 0 & 0\\\\1 & 0 & 0 & 0\\\\0 & 0 & 0 & 1\\\\0 & 0 & 1 & 0\\end{matrix}\\right]$"
      ],
      "text/plain": [
       "Matrix([\n",
       "[0, 1, 0, 0],\n",
       "[1, 0, 0, 0],\n",
       "[0, 0, 0, 1],\n",
       "[0, 0, 1, 0]])"
      ]
     },
     "metadata": {},
     "output_type": "display_data"
    }
   ],
   "source": [
    "display(Math('M_1 = I \\otimes X = ' + f'{latex(I_gate)}{latex(X_gate)}'))\n",
    "M1 = TensorProduct(I_gate, X_gate)\n",
    "display(M1)"
   ]
  },
  {
   "cell_type": "markdown",
   "metadata": {},
   "source": [
    "Przeszedł do stanu 01, tj. qubit o indeksie 1 jest w stanie 0, zaś qubit o indeksie 0 w stanie 1"
   ]
  },
  {
   "cell_type": "code",
   "execution_count": 86,
   "metadata": {},
   "outputs": [
    {
     "data": {
      "text/latex": [
       "$\\displaystyle q_1q_0 = M_1 \\cdot q_1q_0 = \\left[\\begin{matrix}0 & 1 & 0 & 0\\\\1 & 0 & 0 & 0\\\\0 & 0 & 0 & 1\\\\0 & 0 & 1 & 0\\end{matrix}\\right]\\left[\\begin{matrix}1\\\\0\\\\0\\\\0\\end{matrix}\\right]$"
      ],
      "text/plain": [
       "<IPython.core.display.Math object>"
      ]
     },
     "metadata": {},
     "output_type": "display_data"
    },
    {
     "name": "stdout",
     "output_type": "stream",
     "text": [
      "Po bramce\n"
     ]
    },
    {
     "data": {
      "text/latex": [
       "$\\displaystyle q_1q_0 = \\left[\\begin{matrix}0\\\\1\\\\0\\\\0\\end{matrix}\\right]$"
      ],
      "text/plain": [
       "<IPython.core.display.Math object>"
      ]
     },
     "metadata": {},
     "output_type": "display_data"
    }
   ],
   "source": [
    "display(Math(f'q_1q_0 = M_1 \\cdot q_1q_0 = {latex(M1)}{latex(q1q0)}'))\n",
    "q1q0 = M1 * q1q0\n",
    "print('Po bramce')\n",
    "display(Math(f'q_1q_0 = {latex(q1q0)}'))"
   ]
  },
  {
   "cell_type": "markdown",
   "metadata": {},
   "source": [
    "Zastosowanie macierzy H dla Kubitu o indeksie 0"
   ]
  },
  {
   "cell_type": "code",
   "execution_count": 87,
   "metadata": {},
   "outputs": [
    {
     "data": {
      "text/latex": [
       "$\\displaystyle M_2 = H \\otimes I = \\left[\\begin{matrix}\\frac{\\sqrt{2}}{2} & \\frac{\\sqrt{2}}{2}\\\\\\frac{\\sqrt{2}}{2} & - \\frac{\\sqrt{2}}{2}\\end{matrix}\\right]\\left[\\begin{matrix}1 & 0\\\\0 & 1\\end{matrix}\\right]$"
      ],
      "text/plain": [
       "<IPython.core.display.Math object>"
      ]
     },
     "metadata": {},
     "output_type": "display_data"
    },
    {
     "data": {
      "text/latex": [
       "$\\displaystyle q_1q_0 = M_2 \\cdot q_1q_0 = \\left[\\begin{matrix}\\frac{\\sqrt{2}}{2} & 0 & \\frac{\\sqrt{2}}{2} & 0\\\\0 & \\frac{\\sqrt{2}}{2} & 0 & \\frac{\\sqrt{2}}{2}\\\\\\frac{\\sqrt{2}}{2} & 0 & - \\frac{\\sqrt{2}}{2} & 0\\\\0 & \\frac{\\sqrt{2}}{2} & 0 & - \\frac{\\sqrt{2}}{2}\\end{matrix}\\right]\\left[\\begin{matrix}0\\\\1\\\\0\\\\0\\end{matrix}\\right]$"
      ],
      "text/plain": [
       "<IPython.core.display.Math object>"
      ]
     },
     "metadata": {},
     "output_type": "display_data"
    },
    {
     "name": "stdout",
     "output_type": "stream",
     "text": [
      "Po bramce\n"
     ]
    },
    {
     "data": {
      "text/latex": [
       "$\\displaystyle q_1q_0 = \\left[\\begin{matrix}1\\\\0\\\\0\\\\0\\end{matrix}\\right]$"
      ],
      "text/plain": [
       "<IPython.core.display.Math object>"
      ]
     },
     "metadata": {},
     "output_type": "display_data"
    }
   ],
   "source": [
    "display(Math('M_2 = H \\otimes I = ' + f'{latex(H_gate)}{latex(I_gate)}'))\n",
    "M2 = TensorProduct(H_gate, I_gate)\n",
    "display(Math(f'q_1q_0 = M_2 \\cdot q_1q_0 = {latex(M2)}{latex(q1q0)}'))\n",
    "q1q0 = M1 * q1q0\n",
    "print('Po bramce')\n",
    "display(Math(f'q_1q_0 = {latex(q1q0)}'))\n"
   ]
  },
  {
   "cell_type": "markdown",
   "metadata": {},
   "source": [
    "### fc1\n",
    "\n"
   ]
  },
  {
   "cell_type": "code",
   "execution_count": 115,
   "metadata": {},
   "outputs": [
    {
     "data": {
      "text/latex": [
       "$\\displaystyle q_0= \\left[\\begin{matrix}1\\\\0\\end{matrix}\\right]$"
      ],
      "text/plain": [
       "<IPython.core.display.Math object>"
      ]
     },
     "metadata": {},
     "output_type": "display_data"
    },
    {
     "data": {
      "text/latex": [
       "$\\displaystyle q_1= \\left[\\begin{matrix}1\\\\0\\end{matrix}\\right]$"
      ],
      "text/plain": [
       "<IPython.core.display.Math object>"
      ]
     },
     "metadata": {},
     "output_type": "display_data"
    },
    {
     "data": {
      "text/latex": [
       "$\\displaystyle q_1q_2 = q_1 \\otimes q_2 = \\left[\\begin{matrix}1\\\\0\\end{matrix}\\right]\\otimes\\left[\\begin{matrix}1\\\\0\\end{matrix}\\right] = \\left[\\begin{matrix}1\\\\0\\\\0\\\\0\\end{matrix}\\right]$"
      ],
      "text/plain": [
       "<IPython.core.display.Math object>"
      ]
     },
     "metadata": {},
     "output_type": "display_data"
    },
    {
     "data": {
      "text/latex": [
       "$\\displaystyle M_1 = X \\otimes I = \\left[\\begin{matrix}0 & 1\\\\1 & 0\\end{matrix}\\right]\\otimes\\left[\\begin{matrix}1 & 0\\\\0 & 1\\end{matrix}\\right] = \\left[\\begin{matrix}0 & 0 & 1 & 0\\\\0 & 0 & 0 & 1\\\\1 & 0 & 0 & 0\\\\0 & 1 & 0 & 0\\end{matrix}\\right]$"
      ],
      "text/plain": [
       "<IPython.core.display.Math object>"
      ]
     },
     "metadata": {},
     "output_type": "display_data"
    },
    {
     "data": {
      "text/latex": [
       "$\\displaystyle q_1q_0 = M_1 \\cdot q_1q_0 = \\left[\\begin{matrix}0 & 0 & 1 & 0\\\\0 & 0 & 0 & 1\\\\1 & 0 & 0 & 0\\\\0 & 1 & 0 & 0\\end{matrix}\\right]\\left[\\begin{matrix}1\\\\0\\\\0\\\\0\\end{matrix}\\right]= \\left[\\begin{matrix}0\\\\0\\\\1\\\\0\\end{matrix}\\right]$"
      ],
      "text/plain": [
       "<IPython.core.display.Math object>"
      ]
     },
     "metadata": {},
     "output_type": "display_data"
    },
    {
     "data": {
      "text/latex": [
       "$\\displaystyle M_2 = H \\otimes H = \\left[\\begin{matrix}\\frac{\\sqrt{2}}{2} & \\frac{\\sqrt{2}}{2}\\\\\\frac{\\sqrt{2}}{2} & - \\frac{\\sqrt{2}}{2}\\end{matrix}\\right]\\otimes\\left[\\begin{matrix}\\frac{\\sqrt{2}}{2} & \\frac{\\sqrt{2}}{2}\\\\\\frac{\\sqrt{2}}{2} & - \\frac{\\sqrt{2}}{2}\\end{matrix}\\right] = \\left[\\begin{matrix}\\frac{1}{2} & \\frac{1}{2} & \\frac{1}{2} & \\frac{1}{2}\\\\\\frac{1}{2} & - \\frac{1}{2} & \\frac{1}{2} & - \\frac{1}{2}\\\\\\frac{1}{2} & \\frac{1}{2} & - \\frac{1}{2} & - \\frac{1}{2}\\\\\\frac{1}{2} & - \\frac{1}{2} & - \\frac{1}{2} & \\frac{1}{2}\\end{matrix}\\right]$"
      ],
      "text/plain": [
       "<IPython.core.display.Math object>"
      ]
     },
     "metadata": {},
     "output_type": "display_data"
    },
    {
     "data": {
      "text/latex": [
       "$\\displaystyle q_1q_0 = M_2 \\cdot q_1q_0 = \\left[\\begin{matrix}\\frac{1}{2} & \\frac{1}{2} & \\frac{1}{2} & \\frac{1}{2}\\\\\\frac{1}{2} & - \\frac{1}{2} & \\frac{1}{2} & - \\frac{1}{2}\\\\\\frac{1}{2} & \\frac{1}{2} & - \\frac{1}{2} & - \\frac{1}{2}\\\\\\frac{1}{2} & - \\frac{1}{2} & - \\frac{1}{2} & \\frac{1}{2}\\end{matrix}\\right]\\left[\\begin{matrix}0\\\\0\\\\1\\\\0\\end{matrix}\\right] = \\left[\\begin{matrix}\\frac{1}{2}\\\\\\frac{1}{2}\\\\- \\frac{1}{2}\\\\- \\frac{1}{2}\\end{matrix}\\right]$"
      ],
      "text/plain": [
       "<IPython.core.display.Math object>"
      ]
     },
     "metadata": {},
     "output_type": "display_data"
    },
    {
     "data": {
      "text/latex": [
       "$\\displaystyle M_3 = I \\otimes H = \\left[\\begin{matrix}1 & 0\\\\0 & 1\\end{matrix}\\right]\\otimes\\left[\\begin{matrix}\\frac{\\sqrt{2}}{2} & \\frac{\\sqrt{2}}{2}\\\\\\frac{\\sqrt{2}}{2} & - \\frac{\\sqrt{2}}{2}\\end{matrix}\\right] = \\left[\\begin{matrix}\\frac{\\sqrt{2}}{2} & \\frac{\\sqrt{2}}{2} & 0 & 0\\\\\\frac{\\sqrt{2}}{2} & - \\frac{\\sqrt{2}}{2} & 0 & 0\\\\0 & 0 & \\frac{\\sqrt{2}}{2} & \\frac{\\sqrt{2}}{2}\\\\0 & 0 & \\frac{\\sqrt{2}}{2} & - \\frac{\\sqrt{2}}{2}\\end{matrix}\\right]$"
      ],
      "text/plain": [
       "<IPython.core.display.Math object>"
      ]
     },
     "metadata": {},
     "output_type": "display_data"
    },
    {
     "data": {
      "text/latex": [
       "$\\displaystyle q_1q_0 = M_3 \\cdot q_1q_0 = \\left[\\begin{matrix}\\frac{\\sqrt{2}}{2} & \\frac{\\sqrt{2}}{2} & 0 & 0\\\\\\frac{\\sqrt{2}}{2} & - \\frac{\\sqrt{2}}{2} & 0 & 0\\\\0 & 0 & \\frac{\\sqrt{2}}{2} & \\frac{\\sqrt{2}}{2}\\\\0 & 0 & \\frac{\\sqrt{2}}{2} & - \\frac{\\sqrt{2}}{2}\\end{matrix}\\right]\\left[\\begin{matrix}\\frac{1}{2}\\\\\\frac{1}{2}\\\\- \\frac{1}{2}\\\\- \\frac{1}{2}\\end{matrix}\\right] = \\left[\\begin{matrix}\\frac{\\sqrt{2}}{2}\\\\0\\\\- \\frac{\\sqrt{2}}{2}\\\\0\\end{matrix}\\right]$"
      ],
      "text/plain": [
       "<IPython.core.display.Math object>"
      ]
     },
     "metadata": {},
     "output_type": "display_data"
    }
   ],
   "source": [
    "q0 = q_base\n",
    "q1 = q_base\n",
    "display(Math(f'q_0= {latex(q0)}'))\n",
    "display(Math(f'q_1= {latex(q1)}'))\n",
    "\n",
    "q1q0 = TensorProduct(q1,q0) \n",
    "display(Math('q_1q_2 = q_1 \\otimes q_2 = ' + f'{latex(q1)}\\otimes{latex(q0)}' + f' = {latex(q1q0)}'))\n",
    "\n",
    "M1 = TensorProduct(X_gate, I_gate)\n",
    "display(Math('M_1 = X \\otimes I = ' + f'{latex(X_gate)}\\otimes{latex(I_gate)}' + f' = {latex(M1)}' ))\n",
    "\n",
    "s = f'q_1q_0 = M_1 \\cdot q_1q_0 = {latex(M1)}{latex(q1q0)}'\n",
    "q1q0 = M1 * q1q0\n",
    "s += f'= {latex(q1q0)}'\n",
    "display(Math(s))\n",
    "\n",
    "M2 = TensorProduct(H_gate, H_gate)\n",
    "display(Math('M_2 = H \\otimes H = ' + f'{latex(H_gate)}\\otimes{latex(H_gate)} = {latex(M2)}' ))\n",
    "s = f'q_1q_0 = M_2 \\cdot q_1q_0 = {latex(M2)}{latex(q1q0)}'\n",
    "q1q0 = M2 * q1q0\n",
    "s += f' = {latex(q1q0)}'\n",
    "display(Math(s))\n",
    "\n",
    "M3 = TensorProduct(I_gate, H_gate)\n",
    "display(Math('M_3 = I \\otimes H = ' + f'{latex(I_gate)}\\otimes{latex(H_gate)} = {latex(M3)}' ))\n",
    "s = f'q_1q_0 = M_3 \\cdot q_1q_0 = {latex(M3)}{latex(q1q0)}'\n",
    "q1q0 = M3 * q1q0\n",
    "s += f' = {latex(q1q0)}'\n",
    "display(Math(s))\n"
   ]
  },
  {
   "cell_type": "markdown",
   "metadata": {},
   "source": [
    "## fc2"
   ]
  },
  {
   "cell_type": "code",
   "execution_count": 116,
   "metadata": {},
   "outputs": [
    {
     "data": {
      "text/latex": [
       "$\\displaystyle q_0= \\left[\\begin{matrix}1\\\\0\\end{matrix}\\right]$"
      ],
      "text/plain": [
       "<IPython.core.display.Math object>"
      ]
     },
     "metadata": {},
     "output_type": "display_data"
    },
    {
     "data": {
      "text/latex": [
       "$\\displaystyle q_1= \\left[\\begin{matrix}1\\\\0\\end{matrix}\\right]$"
      ],
      "text/plain": [
       "<IPython.core.display.Math object>"
      ]
     },
     "metadata": {},
     "output_type": "display_data"
    },
    {
     "data": {
      "text/latex": [
       "$\\displaystyle q_1q_2 = q_1 \\otimes q_2 = \\left[\\begin{matrix}1\\\\0\\end{matrix}\\right]\\otimes\\left[\\begin{matrix}1\\\\0\\end{matrix}\\right] = \\left[\\begin{matrix}1\\\\0\\\\0\\\\0\\end{matrix}\\right]$"
      ],
      "text/plain": [
       "<IPython.core.display.Math object>"
      ]
     },
     "metadata": {},
     "output_type": "display_data"
    },
    {
     "data": {
      "text/latex": [
       "$\\displaystyle M_1 = X \\otimes I = \\left[\\begin{matrix}0 & 1\\\\1 & 0\\end{matrix}\\right]\\otimes\\left[\\begin{matrix}1 & 0\\\\0 & 1\\end{matrix}\\right] = \\left[\\begin{matrix}0 & 0 & 1 & 0\\\\0 & 0 & 0 & 1\\\\1 & 0 & 0 & 0\\\\0 & 1 & 0 & 0\\end{matrix}\\right]$"
      ],
      "text/plain": [
       "<IPython.core.display.Math object>"
      ]
     },
     "metadata": {},
     "output_type": "display_data"
    },
    {
     "data": {
      "text/latex": [
       "$\\displaystyle q_1q_0 = M_1 \\cdot q_1q_0 = \\left[\\begin{matrix}0 & 0 & 1 & 0\\\\0 & 0 & 0 & 1\\\\1 & 0 & 0 & 0\\\\0 & 1 & 0 & 0\\end{matrix}\\right]\\left[\\begin{matrix}1\\\\0\\\\0\\\\0\\end{matrix}\\right]= \\left[\\begin{matrix}0\\\\0\\\\1\\\\0\\end{matrix}\\right]$"
      ],
      "text/plain": [
       "<IPython.core.display.Math object>"
      ]
     },
     "metadata": {},
     "output_type": "display_data"
    },
    {
     "data": {
      "text/latex": [
       "$\\displaystyle M_2 = H \\otimes H = \\left[\\begin{matrix}\\frac{\\sqrt{2}}{2} & \\frac{\\sqrt{2}}{2}\\\\\\frac{\\sqrt{2}}{2} & - \\frac{\\sqrt{2}}{2}\\end{matrix}\\right]\\otimes\\left[\\begin{matrix}\\frac{\\sqrt{2}}{2} & \\frac{\\sqrt{2}}{2}\\\\\\frac{\\sqrt{2}}{2} & - \\frac{\\sqrt{2}}{2}\\end{matrix}\\right] = \\left[\\begin{matrix}\\frac{1}{2} & \\frac{1}{2} & \\frac{1}{2} & \\frac{1}{2}\\\\\\frac{1}{2} & - \\frac{1}{2} & \\frac{1}{2} & - \\frac{1}{2}\\\\\\frac{1}{2} & \\frac{1}{2} & - \\frac{1}{2} & - \\frac{1}{2}\\\\\\frac{1}{2} & - \\frac{1}{2} & - \\frac{1}{2} & \\frac{1}{2}\\end{matrix}\\right]$"
      ],
      "text/plain": [
       "<IPython.core.display.Math object>"
      ]
     },
     "metadata": {},
     "output_type": "display_data"
    },
    {
     "data": {
      "text/latex": [
       "$\\displaystyle q_1q_0 = M_2 \\cdot q_1q_0 = \\left[\\begin{matrix}\\frac{1}{2} & \\frac{1}{2} & \\frac{1}{2} & \\frac{1}{2}\\\\\\frac{1}{2} & - \\frac{1}{2} & \\frac{1}{2} & - \\frac{1}{2}\\\\\\frac{1}{2} & \\frac{1}{2} & - \\frac{1}{2} & - \\frac{1}{2}\\\\\\frac{1}{2} & - \\frac{1}{2} & - \\frac{1}{2} & \\frac{1}{2}\\end{matrix}\\right]\\left[\\begin{matrix}0\\\\0\\\\1\\\\0\\end{matrix}\\right] = \\left[\\begin{matrix}\\frac{1}{2}\\\\\\frac{1}{2}\\\\- \\frac{1}{2}\\\\- \\frac{1}{2}\\end{matrix}\\right]$"
      ],
      "text/plain": [
       "<IPython.core.display.Math object>"
      ]
     },
     "metadata": {},
     "output_type": "display_data"
    },
    {
     "data": {
      "text/latex": [
       "$\\displaystyle M_3 = X \\otimes I = \\left[\\begin{matrix}0 & 1\\\\1 & 0\\end{matrix}\\right]\\otimes\\left[\\begin{matrix}1 & 0\\\\0 & 1\\end{matrix}\\right] = \\left[\\begin{matrix}0 & 0 & 1 & 0\\\\0 & 0 & 0 & 1\\\\1 & 0 & 0 & 0\\\\0 & 1 & 0 & 0\\end{matrix}\\right]$"
      ],
      "text/plain": [
       "<IPython.core.display.Math object>"
      ]
     },
     "metadata": {},
     "output_type": "display_data"
    },
    {
     "data": {
      "text/latex": [
       "$\\displaystyle q_1q_0 = M_3 \\cdot q_1q_0 = \\left[\\begin{matrix}0 & 0 & 1 & 0\\\\0 & 0 & 0 & 1\\\\1 & 0 & 0 & 0\\\\0 & 1 & 0 & 0\\end{matrix}\\right]\\left[\\begin{matrix}\\frac{1}{2}\\\\\\frac{1}{2}\\\\- \\frac{1}{2}\\\\- \\frac{1}{2}\\end{matrix}\\right] = \\left[\\begin{matrix}- \\frac{1}{2}\\\\- \\frac{1}{2}\\\\\\frac{1}{2}\\\\\\frac{1}{2}\\end{matrix}\\right]$"
      ],
      "text/plain": [
       "<IPython.core.display.Math object>"
      ]
     },
     "metadata": {},
     "output_type": "display_data"
    },
    {
     "data": {
      "text/latex": [
       "$\\displaystyle M_4 = I \\otimes H = \\left[\\begin{matrix}1 & 0\\\\0 & 1\\end{matrix}\\right]\\otimes\\left[\\begin{matrix}\\frac{\\sqrt{2}}{2} & \\frac{\\sqrt{2}}{2}\\\\\\frac{\\sqrt{2}}{2} & - \\frac{\\sqrt{2}}{2}\\end{matrix}\\right] = \\left[\\begin{matrix}\\frac{\\sqrt{2}}{2} & \\frac{\\sqrt{2}}{2} & 0 & 0\\\\\\frac{\\sqrt{2}}{2} & - \\frac{\\sqrt{2}}{2} & 0 & 0\\\\0 & 0 & \\frac{\\sqrt{2}}{2} & \\frac{\\sqrt{2}}{2}\\\\0 & 0 & \\frac{\\sqrt{2}}{2} & - \\frac{\\sqrt{2}}{2}\\end{matrix}\\right]$"
      ],
      "text/plain": [
       "<IPython.core.display.Math object>"
      ]
     },
     "metadata": {},
     "output_type": "display_data"
    },
    {
     "data": {
      "text/latex": [
       "$\\displaystyle q_1q_0 = M_4 \\cdot q_1q_0 = \\left[\\begin{matrix}\\frac{\\sqrt{2}}{2} & \\frac{\\sqrt{2}}{2} & 0 & 0\\\\\\frac{\\sqrt{2}}{2} & - \\frac{\\sqrt{2}}{2} & 0 & 0\\\\0 & 0 & \\frac{\\sqrt{2}}{2} & \\frac{\\sqrt{2}}{2}\\\\0 & 0 & \\frac{\\sqrt{2}}{2} & - \\frac{\\sqrt{2}}{2}\\end{matrix}\\right]\\left[\\begin{matrix}- \\frac{1}{2}\\\\- \\frac{1}{2}\\\\\\frac{1}{2}\\\\\\frac{1}{2}\\end{matrix}\\right] = \\left[\\begin{matrix}- \\frac{\\sqrt{2}}{2}\\\\0\\\\\\frac{\\sqrt{2}}{2}\\\\0\\end{matrix}\\right]$"
      ],
      "text/plain": [
       "<IPython.core.display.Math object>"
      ]
     },
     "metadata": {},
     "output_type": "display_data"
    }
   ],
   "source": [
    "q0 = q_base\n",
    "q1 = q_base\n",
    "display(Math(f'q_0= {latex(q0)}'))\n",
    "display(Math(f'q_1= {latex(q1)}'))\n",
    "\n",
    "q1q0 = TensorProduct(q1,q0) \n",
    "display(Math('q_1q_2 = q_1 \\otimes q_2 = ' + f'{latex(q1)}\\otimes{latex(q0)}' + f' = {latex(q1q0)}'))\n",
    "\n",
    "M1 = TensorProduct(X_gate, I_gate)\n",
    "display(Math('M_1 = X \\otimes I = ' + f'{latex(X_gate)}\\otimes{latex(I_gate)}' + f' = {latex(M1)}' ))\n",
    "\n",
    "s = f'q_1q_0 = M_1 \\cdot q_1q_0 = {latex(M1)}{latex(q1q0)}'\n",
    "q1q0 = M1 * q1q0\n",
    "s += f'= {latex(q1q0)}'\n",
    "display(Math(s))\n",
    "\n",
    "M2 = TensorProduct(H_gate, H_gate)\n",
    "display(Math('M_2 = H \\otimes H = ' + f'{latex(H_gate)}\\otimes{latex(H_gate)} = {latex(M2)}' ))\n",
    "s = f'q_1q_0 = M_2 \\cdot q_1q_0 = {latex(M2)}{latex(q1q0)}'\n",
    "q1q0 = M2 * q1q0\n",
    "s += f' = {latex(q1q0)}'\n",
    "display(Math(s))\n",
    "\n",
    "M3 = TensorProduct(X_gate, I_gate)\n",
    "display(Math('M_3 = X \\otimes I = ' + f'{latex(X_gate)}\\otimes{latex(I_gate)} = {latex(M3)}' ))\n",
    "s = f'q_1q_0 = M_3 \\cdot q_1q_0 = {latex(M3)}{latex(q1q0)}'\n",
    "q1q0 = M3 * q1q0\n",
    "s += f' = {latex(q1q0)}'\n",
    "display(Math(s))\n",
    "\n",
    "M4 = TensorProduct(I_gate, H_gate)\n",
    "display(Math('M_4 = I \\otimes H = ' + f'{latex(I_gate)}\\otimes{latex(H_gate)} = {latex(M4)}' ))\n",
    "s = f'q_1q_0 = M_4 \\cdot q_1q_0 = {latex(M4)}{latex(q1q0)}'\n",
    "q1q0 = M4 * q1q0\n",
    "s += f' = {latex(q1q0)}'\n",
    "display(Math(s))"
   ]
  },
  {
   "cell_type": "markdown",
   "metadata": {},
   "source": [
    "## fb3"
   ]
  },
  {
   "cell_type": "code",
   "execution_count": 138,
   "metadata": {},
   "outputs": [
    {
     "data": {
      "text/latex": [
       "$\\displaystyle q_0= \\left[\\begin{matrix}1\\\\0\\end{matrix}\\right]$"
      ],
      "text/plain": [
       "<IPython.core.display.Math object>"
      ]
     },
     "metadata": {},
     "output_type": "display_data"
    },
    {
     "data": {
      "text/latex": [
       "$\\displaystyle q_1= \\left[\\begin{matrix}1\\\\0\\end{matrix}\\right]$"
      ],
      "text/plain": [
       "<IPython.core.display.Math object>"
      ]
     },
     "metadata": {},
     "output_type": "display_data"
    },
    {
     "data": {
      "text/latex": [
       "$\\displaystyle q_1q_2 = q_1 \\otimes q_2 = \\left[\\begin{matrix}1\\\\0\\end{matrix}\\right]\\otimes\\left[\\begin{matrix}1\\\\0\\end{matrix}\\right] = \\left[\\begin{matrix}1\\\\0\\\\0\\\\0\\end{matrix}\\right]$"
      ],
      "text/plain": [
       "<IPython.core.display.Math object>"
      ]
     },
     "metadata": {},
     "output_type": "display_data"
    },
    {
     "data": {
      "text/latex": [
       "$\\displaystyle M_1 = X \\otimes I = \\left[\\begin{matrix}0 & 1\\\\1 & 0\\end{matrix}\\right]\\otimes\\left[\\begin{matrix}1 & 0\\\\0 & 1\\end{matrix}\\right] = \\left[\\begin{matrix}0 & 0 & 1 & 0\\\\0 & 0 & 0 & 1\\\\1 & 0 & 0 & 0\\\\0 & 1 & 0 & 0\\end{matrix}\\right]$"
      ],
      "text/plain": [
       "<IPython.core.display.Math object>"
      ]
     },
     "metadata": {},
     "output_type": "display_data"
    },
    {
     "data": {
      "text/latex": [
       "$\\displaystyle q_1q_0 = M_1 \\cdot q_1q_0 = \\left[\\begin{matrix}0 & 0 & 1 & 0\\\\0 & 0 & 0 & 1\\\\1 & 0 & 0 & 0\\\\0 & 1 & 0 & 0\\end{matrix}\\right]\\left[\\begin{matrix}1\\\\0\\\\0\\\\0\\end{matrix}\\right]= \\left[\\begin{matrix}0\\\\0\\\\1\\\\0\\end{matrix}\\right]$"
      ],
      "text/plain": [
       "<IPython.core.display.Math object>"
      ]
     },
     "metadata": {},
     "output_type": "display_data"
    },
    {
     "data": {
      "text/latex": [
       "$\\displaystyle M_2 = H \\otimes H = \\left[\\begin{matrix}\\frac{\\sqrt{2}}{2} & \\frac{\\sqrt{2}}{2}\\\\\\frac{\\sqrt{2}}{2} & - \\frac{\\sqrt{2}}{2}\\end{matrix}\\right]\\otimes\\left[\\begin{matrix}\\frac{\\sqrt{2}}{2} & \\frac{\\sqrt{2}}{2}\\\\\\frac{\\sqrt{2}}{2} & - \\frac{\\sqrt{2}}{2}\\end{matrix}\\right] = \\left[\\begin{matrix}\\frac{1}{2} & \\frac{1}{2} & \\frac{1}{2} & \\frac{1}{2}\\\\\\frac{1}{2} & - \\frac{1}{2} & \\frac{1}{2} & - \\frac{1}{2}\\\\\\frac{1}{2} & \\frac{1}{2} & - \\frac{1}{2} & - \\frac{1}{2}\\\\\\frac{1}{2} & - \\frac{1}{2} & - \\frac{1}{2} & \\frac{1}{2}\\end{matrix}\\right]$"
      ],
      "text/plain": [
       "<IPython.core.display.Math object>"
      ]
     },
     "metadata": {},
     "output_type": "display_data"
    },
    {
     "data": {
      "text/latex": [
       "$\\displaystyle q_1q_0 = M_2 \\cdot q_1q_0 = \\left[\\begin{matrix}\\frac{1}{2} & \\frac{1}{2} & \\frac{1}{2} & \\frac{1}{2}\\\\\\frac{1}{2} & - \\frac{1}{2} & \\frac{1}{2} & - \\frac{1}{2}\\\\\\frac{1}{2} & \\frac{1}{2} & - \\frac{1}{2} & - \\frac{1}{2}\\\\\\frac{1}{2} & - \\frac{1}{2} & - \\frac{1}{2} & \\frac{1}{2}\\end{matrix}\\right]\\left[\\begin{matrix}0\\\\0\\\\1\\\\0\\end{matrix}\\right] = \\left[\\begin{matrix}\\frac{1}{2}\\\\\\frac{1}{2}\\\\- \\frac{1}{2}\\\\- \\frac{1}{2}\\end{matrix}\\right]$"
      ],
      "text/plain": [
       "<IPython.core.display.Math object>"
      ]
     },
     "metadata": {},
     "output_type": "display_data"
    },
    {
     "data": {
      "text/latex": [
       "$\\displaystyle q_1q_0 = CNOT \\cdot q_1q_0 = \\left[\\begin{matrix}1 & 0 & 0 & 0\\\\0 & 0 & 0 & 1\\\\0 & 0 & 1 & 0\\\\0 & 1 & 0 & 0\\end{matrix}\\right]\\left[\\begin{matrix}\\frac{1}{2}\\\\\\frac{1}{2}\\\\- \\frac{1}{2}\\\\- \\frac{1}{2}\\end{matrix}\\right] = \\left[\\begin{matrix}\\frac{1}{2}\\\\- \\frac{1}{2}\\\\- \\frac{1}{2}\\\\\\frac{1}{2}\\end{matrix}\\right]$"
      ],
      "text/plain": [
       "<IPython.core.display.Math object>"
      ]
     },
     "metadata": {},
     "output_type": "display_data"
    },
    {
     "data": {
      "text/latex": [
       "$\\displaystyle M_4 = I \\otimes H = \\left[\\begin{matrix}1 & 0\\\\0 & 1\\end{matrix}\\right]\\otimes\\left[\\begin{matrix}\\frac{\\sqrt{2}}{2} & \\frac{\\sqrt{2}}{2}\\\\\\frac{\\sqrt{2}}{2} & - \\frac{\\sqrt{2}}{2}\\end{matrix}\\right] = \\left[\\begin{matrix}\\frac{\\sqrt{2}}{2} & \\frac{\\sqrt{2}}{2} & 0 & 0\\\\\\frac{\\sqrt{2}}{2} & - \\frac{\\sqrt{2}}{2} & 0 & 0\\\\0 & 0 & \\frac{\\sqrt{2}}{2} & \\frac{\\sqrt{2}}{2}\\\\0 & 0 & \\frac{\\sqrt{2}}{2} & - \\frac{\\sqrt{2}}{2}\\end{matrix}\\right]$"
      ],
      "text/plain": [
       "<IPython.core.display.Math object>"
      ]
     },
     "metadata": {},
     "output_type": "display_data"
    },
    {
     "data": {
      "text/latex": [
       "$\\displaystyle q_1q_0 = M_4 \\cdot q_1q_0 = \\left[\\begin{matrix}\\frac{\\sqrt{2}}{2} & \\frac{\\sqrt{2}}{2} & 0 & 0\\\\\\frac{\\sqrt{2}}{2} & - \\frac{\\sqrt{2}}{2} & 0 & 0\\\\0 & 0 & \\frac{\\sqrt{2}}{2} & \\frac{\\sqrt{2}}{2}\\\\0 & 0 & \\frac{\\sqrt{2}}{2} & - \\frac{\\sqrt{2}}{2}\\end{matrix}\\right]\\left[\\begin{matrix}\\frac{1}{2}\\\\- \\frac{1}{2}\\\\- \\frac{1}{2}\\\\\\frac{1}{2}\\end{matrix}\\right] = \\left[\\begin{matrix}0\\\\\\frac{\\sqrt{2}}{2}\\\\0\\\\- \\frac{\\sqrt{2}}{2}\\end{matrix}\\right]$"
      ],
      "text/plain": [
       "<IPython.core.display.Math object>"
      ]
     },
     "metadata": {},
     "output_type": "display_data"
    }
   ],
   "source": [
    "q0 = q_base\n",
    "q1 = q_base\n",
    "display(Math(f'q_0= {latex(q0)}'))\n",
    "display(Math(f'q_1= {latex(q1)}'))\n",
    "\n",
    "q1q0 = TensorProduct(q1,q0) \n",
    "display(Math('q_1q_2 = q_1 \\otimes q_2 = ' + f'{latex(q1)}\\otimes{latex(q0)}' + f' = {latex(q1q0)}'))\n",
    "\n",
    "M1 = TensorProduct(X_gate, I_gate)\n",
    "display(Math('M_1 = X \\otimes I = ' + f'{latex(X_gate)}\\otimes{latex(I_gate)}' + f' = {latex(M1)}' ))\n",
    "\n",
    "s = f'q_1q_0 = M_1 \\cdot q_1q_0 = {latex(M1)}{latex(q1q0)}'\n",
    "q1q0 = M1 * q1q0\n",
    "s += f'= {latex(q1q0)}'\n",
    "display(Math(s))\n",
    "\n",
    "M2 = TensorProduct(H_gate, H_gate)\n",
    "display(Math('M_2 = H \\otimes H = ' + f'{latex(H_gate)}\\otimes{latex(H_gate)} = {latex(M2)}' ))\n",
    "s = f'q_1q_0 = M_2 \\cdot q_1q_0 = {latex(M2)}{latex(q1q0)}'\n",
    "q1q0 = M2 * q1q0\n",
    "s += f' = {latex(q1q0)}'\n",
    "display(Math(s))\n",
    "\n",
    "s = f'q_1q_0 = CNOT \\cdot q_1q_0 = {latex(CNOT_gate)}{latex(q1q0)}'\n",
    "q1q0 = CNOT_gate * q1q0\n",
    "s += f' = {latex(q1q0)}'\n",
    "display(Math(s))\n",
    "\n",
    "M4 = TensorProduct(I_gate, H_gate)\n",
    "display(Math('M_4 = I \\otimes H = ' + f'{latex(I_gate)}\\otimes{latex(H_gate)} = {latex(M4)}' ))\n",
    "s = f'q_1q_0 = M_4 \\cdot q_1q_0 = {latex(M4)}{latex(q1q0)}'\n",
    "q1q0 = M4 * q1q0\n",
    "s += f' = {latex(q1q0)}'\n",
    "display(Math(s))"
   ]
  },
  {
   "cell_type": "markdown",
   "metadata": {},
   "source": [
    "## fb4"
   ]
  },
  {
   "cell_type": "code",
   "execution_count": 139,
   "metadata": {},
   "outputs": [
    {
     "data": {
      "text/latex": [
       "$\\displaystyle q_0= \\left[\\begin{matrix}1\\\\0\\end{matrix}\\right]$"
      ],
      "text/plain": [
       "<IPython.core.display.Math object>"
      ]
     },
     "metadata": {},
     "output_type": "display_data"
    },
    {
     "data": {
      "text/latex": [
       "$\\displaystyle q_1= \\left[\\begin{matrix}1\\\\0\\end{matrix}\\right]$"
      ],
      "text/plain": [
       "<IPython.core.display.Math object>"
      ]
     },
     "metadata": {},
     "output_type": "display_data"
    },
    {
     "data": {
      "text/latex": [
       "$\\displaystyle q_1q_2 = q_1 \\otimes q_2 = \\left[\\begin{matrix}1\\\\0\\end{matrix}\\right]\\otimes\\left[\\begin{matrix}1\\\\0\\end{matrix}\\right] = \\left[\\begin{matrix}1\\\\0\\\\0\\\\0\\end{matrix}\\right]$"
      ],
      "text/plain": [
       "<IPython.core.display.Math object>"
      ]
     },
     "metadata": {},
     "output_type": "display_data"
    },
    {
     "data": {
      "text/latex": [
       "$\\displaystyle M_1 = X \\otimes I = \\left[\\begin{matrix}0 & 1\\\\1 & 0\\end{matrix}\\right]\\otimes\\left[\\begin{matrix}1 & 0\\\\0 & 1\\end{matrix}\\right] = \\left[\\begin{matrix}0 & 0 & 1 & 0\\\\0 & 0 & 0 & 1\\\\1 & 0 & 0 & 0\\\\0 & 1 & 0 & 0\\end{matrix}\\right]$"
      ],
      "text/plain": [
       "<IPython.core.display.Math object>"
      ]
     },
     "metadata": {},
     "output_type": "display_data"
    },
    {
     "data": {
      "text/latex": [
       "$\\displaystyle q_1q_0 = M_1 \\cdot q_1q_0 = \\left[\\begin{matrix}0 & 0 & 1 & 0\\\\0 & 0 & 0 & 1\\\\1 & 0 & 0 & 0\\\\0 & 1 & 0 & 0\\end{matrix}\\right]\\left[\\begin{matrix}1\\\\0\\\\0\\\\0\\end{matrix}\\right]= \\left[\\begin{matrix}0\\\\0\\\\1\\\\0\\end{matrix}\\right]$"
      ],
      "text/plain": [
       "<IPython.core.display.Math object>"
      ]
     },
     "metadata": {},
     "output_type": "display_data"
    },
    {
     "data": {
      "text/latex": [
       "$\\displaystyle M_2 = H \\otimes H = \\left[\\begin{matrix}\\frac{\\sqrt{2}}{2} & \\frac{\\sqrt{2}}{2}\\\\\\frac{\\sqrt{2}}{2} & - \\frac{\\sqrt{2}}{2}\\end{matrix}\\right]\\otimes\\left[\\begin{matrix}\\frac{\\sqrt{2}}{2} & \\frac{\\sqrt{2}}{2}\\\\\\frac{\\sqrt{2}}{2} & - \\frac{\\sqrt{2}}{2}\\end{matrix}\\right] = \\left[\\begin{matrix}\\frac{1}{2} & \\frac{1}{2} & \\frac{1}{2} & \\frac{1}{2}\\\\\\frac{1}{2} & - \\frac{1}{2} & \\frac{1}{2} & - \\frac{1}{2}\\\\\\frac{1}{2} & \\frac{1}{2} & - \\frac{1}{2} & - \\frac{1}{2}\\\\\\frac{1}{2} & - \\frac{1}{2} & - \\frac{1}{2} & \\frac{1}{2}\\end{matrix}\\right]$"
      ],
      "text/plain": [
       "<IPython.core.display.Math object>"
      ]
     },
     "metadata": {},
     "output_type": "display_data"
    },
    {
     "data": {
      "text/latex": [
       "$\\displaystyle q_1q_0 = M_2 \\cdot q_1q_0 = \\left[\\begin{matrix}\\frac{1}{2} & \\frac{1}{2} & \\frac{1}{2} & \\frac{1}{2}\\\\\\frac{1}{2} & - \\frac{1}{2} & \\frac{1}{2} & - \\frac{1}{2}\\\\\\frac{1}{2} & \\frac{1}{2} & - \\frac{1}{2} & - \\frac{1}{2}\\\\\\frac{1}{2} & - \\frac{1}{2} & - \\frac{1}{2} & \\frac{1}{2}\\end{matrix}\\right]\\left[\\begin{matrix}0\\\\0\\\\1\\\\0\\end{matrix}\\right] = \\left[\\begin{matrix}\\frac{1}{2}\\\\\\frac{1}{2}\\\\- \\frac{1}{2}\\\\- \\frac{1}{2}\\end{matrix}\\right]$"
      ],
      "text/plain": [
       "<IPython.core.display.Math object>"
      ]
     },
     "metadata": {},
     "output_type": "display_data"
    },
    {
     "data": {
      "text/latex": [
       "$\\displaystyle q_1q_0 = CNOT \\cdot q_1q_0 = \\left[\\begin{matrix}1 & 0 & 0 & 0\\\\0 & 0 & 0 & 1\\\\0 & 0 & 1 & 0\\\\0 & 1 & 0 & 0\\end{matrix}\\right]\\left[\\begin{matrix}\\frac{1}{2}\\\\\\frac{1}{2}\\\\- \\frac{1}{2}\\\\- \\frac{1}{2}\\end{matrix}\\right] = \\left[\\begin{matrix}\\frac{1}{2}\\\\- \\frac{1}{2}\\\\- \\frac{1}{2}\\\\\\frac{1}{2}\\end{matrix}\\right]$"
      ],
      "text/plain": [
       "<IPython.core.display.Math object>"
      ]
     },
     "metadata": {},
     "output_type": "display_data"
    },
    {
     "data": {
      "text/latex": [
       "$\\displaystyle M_3 = I \\otimes H = \\left[\\begin{matrix}0 & 1\\\\1 & 0\\end{matrix}\\right]\\otimes\\left[\\begin{matrix}1 & 0\\\\0 & 1\\end{matrix}\\right] = \\left[\\begin{matrix}0 & 0 & 1 & 0\\\\0 & 0 & 0 & 1\\\\1 & 0 & 0 & 0\\\\0 & 1 & 0 & 0\\end{matrix}\\right]$"
      ],
      "text/plain": [
       "<IPython.core.display.Math object>"
      ]
     },
     "metadata": {},
     "output_type": "display_data"
    },
    {
     "data": {
      "text/latex": [
       "$\\displaystyle q_1q_0 = M_3 \\cdot q_1q_0 = \\left[\\begin{matrix}0 & 0 & 1 & 0\\\\0 & 0 & 0 & 1\\\\1 & 0 & 0 & 0\\\\0 & 1 & 0 & 0\\end{matrix}\\right]\\left[\\begin{matrix}\\frac{1}{2}\\\\- \\frac{1}{2}\\\\- \\frac{1}{2}\\\\\\frac{1}{2}\\end{matrix}\\right] = \\left[\\begin{matrix}- \\frac{1}{2}\\\\\\frac{1}{2}\\\\\\frac{1}{2}\\\\- \\frac{1}{2}\\end{matrix}\\right]$"
      ],
      "text/plain": [
       "<IPython.core.display.Math object>"
      ]
     },
     "metadata": {},
     "output_type": "display_data"
    },
    {
     "data": {
      "text/latex": [
       "$\\displaystyle M_4 = I \\otimes H = \\left[\\begin{matrix}1 & 0\\\\0 & 1\\end{matrix}\\right]\\otimes\\left[\\begin{matrix}\\frac{\\sqrt{2}}{2} & \\frac{\\sqrt{2}}{2}\\\\\\frac{\\sqrt{2}}{2} & - \\frac{\\sqrt{2}}{2}\\end{matrix}\\right] = \\left[\\begin{matrix}\\frac{\\sqrt{2}}{2} & \\frac{\\sqrt{2}}{2} & 0 & 0\\\\\\frac{\\sqrt{2}}{2} & - \\frac{\\sqrt{2}}{2} & 0 & 0\\\\0 & 0 & \\frac{\\sqrt{2}}{2} & \\frac{\\sqrt{2}}{2}\\\\0 & 0 & \\frac{\\sqrt{2}}{2} & - \\frac{\\sqrt{2}}{2}\\end{matrix}\\right]$"
      ],
      "text/plain": [
       "<IPython.core.display.Math object>"
      ]
     },
     "metadata": {},
     "output_type": "display_data"
    },
    {
     "data": {
      "text/latex": [
       "$\\displaystyle q_1q_0 = M_4 \\cdot q_1q_0 = \\left[\\begin{matrix}\\frac{\\sqrt{2}}{2} & \\frac{\\sqrt{2}}{2} & 0 & 0\\\\\\frac{\\sqrt{2}}{2} & - \\frac{\\sqrt{2}}{2} & 0 & 0\\\\0 & 0 & \\frac{\\sqrt{2}}{2} & \\frac{\\sqrt{2}}{2}\\\\0 & 0 & \\frac{\\sqrt{2}}{2} & - \\frac{\\sqrt{2}}{2}\\end{matrix}\\right]\\left[\\begin{matrix}- \\frac{1}{2}\\\\\\frac{1}{2}\\\\\\frac{1}{2}\\\\- \\frac{1}{2}\\end{matrix}\\right] = \\left[\\begin{matrix}0\\\\- \\frac{\\sqrt{2}}{2}\\\\0\\\\\\frac{\\sqrt{2}}{2}\\end{matrix}\\right]$"
      ],
      "text/plain": [
       "<IPython.core.display.Math object>"
      ]
     },
     "metadata": {},
     "output_type": "display_data"
    }
   ],
   "source": [
    "q0 = q_base\n",
    "q1 = q_base\n",
    "display(Math(f'q_0= {latex(q0)}'))\n",
    "display(Math(f'q_1= {latex(q1)}'))\n",
    "\n",
    "q1q0 = TensorProduct(q1,q0) \n",
    "display(Math('q_1q_2 = q_1 \\otimes q_2 = ' + f'{latex(q1)}\\otimes{latex(q0)}' + f' = {latex(q1q0)}'))\n",
    "\n",
    "M1 = TensorProduct(X_gate, I_gate)\n",
    "display(Math('M_1 = X \\otimes I = ' + f'{latex(X_gate)}\\otimes{latex(I_gate)}' + f' = {latex(M1)}' ))\n",
    "\n",
    "s = f'q_1q_0 = M_1 \\cdot q_1q_0 = {latex(M1)}{latex(q1q0)}'\n",
    "q1q0 = M1 * q1q0\n",
    "s += f'= {latex(q1q0)}'\n",
    "display(Math(s))\n",
    "\n",
    "M2 = TensorProduct(H_gate, H_gate)\n",
    "display(Math('M_2 = H \\otimes H = ' + f'{latex(H_gate)}\\otimes{latex(H_gate)} = {latex(M2)}' ))\n",
    "s = f'q_1q_0 = M_2 \\cdot q_1q_0 = {latex(M2)}{latex(q1q0)}'\n",
    "q1q0 = M2 * q1q0\n",
    "s += f' = {latex(q1q0)}'\n",
    "display(Math(s))\n",
    "\n",
    "s = f'q_1q_0 = CNOT \\cdot q_1q_0 = {latex(CNOT_gate)}{latex(q1q0)}'\n",
    "q1q0 = CNOT_gate * q1q0\n",
    "s += f' = {latex(q1q0)}'\n",
    "display(Math(s))\n",
    "\n",
    "M3 = TensorProduct(X_gate, I_gate)\n",
    "display(Math('M_3 = I \\otimes H = ' + f'{latex(X_gate)}\\otimes{latex(I_gate)} = {latex(M3)}' ))\n",
    "s = f'q_1q_0 = M_3 \\cdot q_1q_0 = {latex(M3)}{latex(q1q0)}'\n",
    "q1q0 = M3 * q1q0\n",
    "s += f' = {latex(q1q0)}'\n",
    "display(Math(s))\n",
    "\n",
    "M4 = TensorProduct(I_gate, H_gate)\n",
    "display(Math('M_4 = I \\otimes H = ' + f'{latex(I_gate)}\\otimes{latex(H_gate)} = {latex(M4)}' ))\n",
    "s = f'q_1q_0 = M_4 \\cdot q_1q_0 = {latex(M4)}{latex(q1q0)}'\n",
    "q1q0 = M4 * q1q0\n",
    "s += f' = {latex(q1q0)}'\n",
    "display(Math(s))"
   ]
  },
  {
   "cell_type": "markdown",
   "metadata": {},
   "source": [
    "Checking CNOT gate"
   ]
  },
  {
   "cell_type": "code",
   "execution_count": 136,
   "metadata": {},
   "outputs": [
    {
     "data": {
      "text/latex": [
       "$\\displaystyle \\left[\\begin{matrix}1\\\\0\\\\0\\\\0\\end{matrix}\\right]$"
      ],
      "text/plain": [
       "Matrix([\n",
       "[1],\n",
       "[0],\n",
       "[0],\n",
       "[0]])"
      ]
     },
     "metadata": {},
     "output_type": "display_data"
    },
    {
     "data": {
      "text/latex": [
       "$\\displaystyle \\left[\\begin{matrix}0\\\\0\\\\0\\\\1\\end{matrix}\\right]$"
      ],
      "text/plain": [
       "Matrix([\n",
       "[0],\n",
       "[0],\n",
       "[0],\n",
       "[1]])"
      ]
     },
     "metadata": {},
     "output_type": "display_data"
    },
    {
     "data": {
      "text/latex": [
       "$\\displaystyle \\left[\\begin{matrix}0\\\\0\\\\1\\\\0\\end{matrix}\\right]$"
      ],
      "text/plain": [
       "Matrix([\n",
       "[0],\n",
       "[0],\n",
       "[1],\n",
       "[0]])"
      ]
     },
     "metadata": {},
     "output_type": "display_data"
    },
    {
     "data": {
      "text/latex": [
       "$\\displaystyle \\left[\\begin{matrix}0\\\\1\\\\0\\\\0\\end{matrix}\\right]$"
      ],
      "text/plain": [
       "Matrix([\n",
       "[0],\n",
       "[1],\n",
       "[0],\n",
       "[0]])"
      ]
     },
     "metadata": {},
     "output_type": "display_data"
    }
   ],
   "source": [
    "CNOT_gate = Matrix([[1,0,0,0],[0,0,0,1],[0,0,1,0],[0,1,0,0]])\n",
    "\n",
    "q1 = Matrix([[1],[0],[0],[0]])\n",
    "q2 = Matrix([[0],[1],[0],[0]])\n",
    "q3 = Matrix([[0],[0],[1],[0]])\n",
    "q4 = Matrix([[0],[0],[0],[1]])\n",
    "\n",
    "display(CNOT_gate * q1)\n",
    "display(CNOT_gate * q2)\n",
    "display(CNOT_gate * q3)\n",
    "display(CNOT_gate * q4)"
   ]
  }
 ],
 "metadata": {
  "kernelspec": {
   "display_name": ".venv",
   "language": "python",
   "name": "python3"
  },
  "language_info": {
   "codemirror_mode": {
    "name": "ipython",
    "version": 3
   },
   "file_extension": ".py",
   "mimetype": "text/x-python",
   "name": "python",
   "nbconvert_exporter": "python",
   "pygments_lexer": "ipython3",
   "version": "3.11.4"
  }
 },
 "nbformat": 4,
 "nbformat_minor": 2
}
