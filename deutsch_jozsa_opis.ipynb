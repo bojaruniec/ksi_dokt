{
 "cells": [
  {
   "cell_type": "markdown",
   "metadata": {},
   "source": [
    "# 1. Wstęp"
   ]
  },
  {
   "cell_type": "markdown",
   "metadata": {},
   "source": [
    "## Argumenty za wyłączeniem chmurowych symulatorów kwantowych\n",
    "\n",
    "Do 15 maja 2024 r. IBM Quantum udostępniał symulatory kwantowe w chmurze. Wyłączenie symulatorów w chmurze argumentowane jest następująco:\n",
    "1. Ograniczenia symulatorów do badań (ang. *research*) lub eksperymentów. \n",
    "    1. Przy wykorzystaniu nawet najnowczoeśniejszych komputerów klasycznych, pozwalają na symulowanie działanie systemów kwantowach do ok. 50 kubitów. Ograniczenie to wynika z wykładniczego wzrostu zapotrzebowania na moc obliczeniową przy symulacji większych systemów kwantowych. \n",
    "    1. Symulatory nie potrafią uchwycić szumów (ang. *noise*) i błędów (ang. *error*)  w modelach\n",
    "1. Zbudowanie nowych umiejętności\n",
    "    1. Konieczność stosowania strategii ograniczania błędów \n",
    "    1. Rozumienie zjawisk kwantowych\n",
    "    1. Zwiększenie kreatywności i innowacyjności poprzez używanie prawdziwych komputerów kwantowych\n",
    "1. Dostosowanie algorytmów do sprzętu kwantowego\n",
    "    1. Sprzęt kwantowy pozwala na wykrozystanie możliwości systemów kwantowych\n",
    "    1. Parametryzacja Ansatz-u, topologii obwodów w celu maksymalizacji wydajności poprzez eksperymenty na sprzęcie kwantowym\n"
   ]
  },
  {
   "cell_type": "markdown",
   "metadata": {},
   "source": [
    "## Konieczność migracji do symulatorów na komputerach lokalnych\n",
    "\n",
    "Korzystanie z symulatorów lokalnych wymaga:\n",
    "\n",
    "1. Określenia sztucznego backendu *fake backend* poleceniem `qiskit_ibm_runtime.fake_provider` lub \n",
    "1. Określenia backendu w `Qiskit Aer` przed rozpoczęciem sesji lub inicjalizacją pierwszego obiektu\n",
    "\n",
    "### Fake backend\n",
    "\n",
    "Sztuczne backendy naśladują zachowanie systemów kwantowych IBM wykorzystując migawki systemu (ang. *system snapshots*). Informacje o stanie systemu takie jak graf mapy powiązań (ang. *coupling map*), podstawowe bramki, własności kubitów. Podczas symulacji z wykorzystaniem takiego backendu dodawany jest model szumów. \n",
    "\n",
    "### Aer simulator\n",
    "\n",
    "Symulatory `Qiskit Aer` mogą obsługiwać złożone obwody oraz realistyczne modele szumów. Dostarczają intefejsu do eksperymentów z obwodami kwantowymi z uwzględnieniem szumó lub bez nich. Pozwalają na wykorzystanie interfejsów *Message Passing Interface* (MPI). `Qiskit Aer` jest zależny od wersji głównego pakietu `Qiskit` oraz wykorzystywanej platformy. https://qiskit.github.io/qiskit-aer/"
   ]
  },
  {
   "cell_type": "markdown",
   "metadata": {},
   "source": [
    "# 2. Informacje o Qiskit v.1.0"
   ]
  },
  {
   "cell_type": "markdown",
   "metadata": {},
   "source": [
    "W wersji v.1.0 systemy kwantowe mogą być symulowane albo na komputerze lokalnym albo wykonywane na rzeczywistym sprzęcie kwantowym w chmurze IBM."
   ]
  },
  {
   "cell_type": "markdown",
   "metadata": {},
   "source": [
    "<img src=\"qiskit_environment.png\" alt=\"Środowisko Qiskit v.1.0\" title=\"Środowisko Qiskit v.1.0\" style=\"width:70%;\" />\n",
    "\n",
    "Źródło: __[Using Qiskit v1.x | Part 1 - Overview](https://www.youtube.com/watch?v=KmMS0S6BMao)__ ."
   ]
  },
  {
   "cell_type": "markdown",
   "metadata": {},
   "source": [
    "## 2.1 Moduł `quantum_info`\n",
    "\n",
    "Używany do analizy własności kwantowych wyniku obwodu kwantowego. \n",
    "\n",
    "Dokumentacja: __https://docs.quantum.ibm.com/api/qiskit/quantum_info__ ."
   ]
  },
  {
   "cell_type": "code",
   "execution_count": 6,
   "metadata": {},
   "outputs": [],
   "source": [
    "from qiskit import QuantumCircuit\n",
    "import qiskit.quantum_info as qi"
   ]
  },
  {
   "cell_type": "code",
   "execution_count": 9,
   "metadata": {},
   "outputs": [
    {
     "data": {
      "image/png": "[encoded data removed]",
      "text/plain": [
       "<Figure size 203.683x200.667 with 1 Axes>"
      ]
     },
     "execution_count": 9,
     "metadata": {},
     "output_type": "execute_result"
    }
   ],
   "source": [
    "qc = QuantumCircuit(2)  # dwa kubity\n",
    "qc.h([0,1])             # bramka Hadamrada na kubicie nr 0 i kubicie nr 1\n",
    "qc.draw('mpl')          # wyświetlenie za pomocą pakietu matplotlib"
   ]
  },
  {
   "cell_type": "markdown",
   "metadata": {},
   "source": [
    "Alaliza obiektu klasy `Statevector`"
   ]
  },
  {
   "cell_type": "code",
   "execution_count": 33,
   "metadata": {},
   "outputs": [],
   "source": [
    "ψ = qi.Statevector(qc)"
   ]
  },
  {
   "cell_type": "code",
   "execution_count": 34,
   "metadata": {},
   "outputs": [
    {
     "name": "stdout",
     "output_type": "stream",
     "text": [
      "<class 'qiskit.quantum_info.states.statevector.Statevector'>\n"
     ]
    }
   ],
   "source": [
    "print(type(ψ))"
   ]
  },
  {
   "cell_type": "markdown",
   "metadata": {},
   "source": [
    "Obiekt typu `Statevector` posiada dodatkowo szereg metod, które zostaną zaprezentowane poniżej."
   ]
  },
  {
   "cell_type": "markdown",
   "metadata": {},
   "source": [
    "1. Prawdopodobieństwa dla każdego ze stanów:"
   ]
  },
  {
   "cell_type": "code",
   "execution_count": 35,
   "metadata": {},
   "outputs": [
    {
     "name": "stdout",
     "output_type": "stream",
     "text": [
      "Słownik:\n",
      "{'00': 0.25, '01': 0.25, '10': 0.25, '11': 0.25}\n",
      "\n",
      "Lista:\n",
      "[0.25 0.25 0.25 0.25]\n"
     ]
    }
   ],
   "source": [
    "print('Słownik:')\n",
    "print(ψ.probabilities_dict(decimals=2))\n",
    "print('')\n",
    "print('Lista:')\n",
    "print(ψ.probabilities(decimals=2))"
   ]
  },
  {
   "cell_type": "markdown",
   "metadata": {},
   "source": [
    "2. Graficzna reprezentacja"
   ]
  },
  {
   "cell_type": "code",
   "execution_count": 36,
   "metadata": {},
   "outputs": [
    {
     "data": {
      "text/latex": [
       "$$\\frac{1}{2} |00\\rangle+\\frac{1}{2} |01\\rangle+\\frac{1}{2} |10\\rangle+\\frac{1}{2} |11\\rangle$$"
      ],
      "text/plain": [
       "<IPython.core.display.Latex object>"
      ]
     },
     "execution_count": 36,
     "metadata": {},
     "output_type": "execute_result"
    }
   ],
   "source": [
    "ψ.draw('latex')"
   ]
  },
  {
   "cell_type": "markdown",
   "metadata": {},
   "source": [
    "3. Przeprowadzenie symulacji dla zadanej liczby próbek"
   ]
  },
  {
   "cell_type": "code",
   "execution_count": 42,
   "metadata": {},
   "outputs": [
    {
     "name": "stdout",
     "output_type": "stream",
     "text": [
      "{'00': 256, '01': 235, '10': 241, '11': 292}\n"
     ]
    }
   ],
   "source": [
    "counts = ψ.sample_counts(shots=1024)\n",
    "print(counts)"
   ]
  },
  {
   "cell_type": "markdown",
   "metadata": {},
   "source": [
    "4. Histogram"
   ]
  },
  {
   "cell_type": "code",
   "execution_count": 43,
   "metadata": {},
   "outputs": [
    {
     "data": {
      "image/png": "[encoded data removed]",
      "text/plain": [
       "<Figure size 700x500 with 1 Axes>"
      ]
     },
     "execution_count": 43,
     "metadata": {},
     "output_type": "execute_result"
    }
   ],
   "source": [
    "from qiskit.visualization import plot_histogram\n",
    "plot_histogram(counts)"
   ]
  },
  {
   "cell_type": "markdown",
   "metadata": {},
   "source": [
    "5. Wyniki każdej z prób"
   ]
  },
  {
   "cell_type": "code",
   "execution_count": 47,
   "metadata": {},
   "outputs": [
    {
     "name": "stdout",
     "output_type": "stream",
     "text": [
      "['11' '11' '01' ... '11' '10' '00']\n"
     ]
    }
   ],
   "source": [
    "samples = ψ.sample_memory(shots=1024)\n",
    "print(samples)"
   ]
  },
  {
   "cell_type": "markdown",
   "metadata": {},
   "source": [
    "Wykorzystując standardową funkcją `Counter` z biblioteki `collections` zwróci podobne wyniki jak `sample_counts()`, ale klucze w słowniku wynikowym będą w innej kolejności. \n"
   ]
  },
  {
   "cell_type": "code",
   "execution_count": 49,
   "metadata": {},
   "outputs": [
    {
     "name": "stdout",
     "output_type": "stream",
     "text": [
      "Counter({'01': 264, '00': 256, '11': 252, '10': 252})\n"
     ]
    }
   ],
   "source": [
    "from collections import Counter\n",
    "print(Counter(samples))"
   ]
  },
  {
   "cell_type": "markdown",
   "metadata": {},
   "source": [
    "# 3. Przygotowanie środowiska "
   ]
  },
  {
   "cell_type": "code",
   "execution_count": null,
   "metadata": {},
   "outputs": [],
   "source": []
  },
  {
   "cell_type": "markdown",
   "metadata": {},
   "source": [
    "## 3.1. Sprawdzenie wersji zainstalowanych pakietów"
   ]
  },
  {
   "cell_type": "code",
   "execution_count": 2,
   "metadata": {},
   "outputs": [
    {
     "name": "stdout",
     "output_type": "stream",
     "text": [
      "1.0.2\n",
      "0.14.0.1\n"
     ]
    }
   ],
   "source": [
    "import qiskit\n",
    "import qiskit_aer\n",
    "\n",
    "print(qiskit.__version__)\n",
    "print(qiskit_aer.__version__)"
   ]
  },
  {
   "cell_type": "markdown",
   "metadata": {},
   "source": [
    "<div class=\"alert alert-block alert-info\">\n",
    "<b>Tip:</b> Use blue boxes (alert-info) for tips and notes. \n",
    "If it’s a note, you don’t have to include the word “Note”.\n",
    "</div>"
   ]
  },
  {
   "cell_type": "markdown",
   "metadata": {},
   "source": []
  }
 ],
 "metadata": {
  "kernelspec": {
   "display_name": ".venv",
   "language": "python",
   "name": "python3"
  },
  "language_info": {
   "codemirror_mode": {
    "name": "ipython",
    "version": 3
   },
   "file_extension": ".py",
   "mimetype": "text/x-python",
   "name": "python",
   "nbconvert_exporter": "python",
   "pygments_lexer": "ipython3",
   "version": "3.11.4"
  }
 },
 "nbformat": 4,
 "nbformat_minor": 2
}
